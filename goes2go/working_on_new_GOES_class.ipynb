{
 "cells": [
  {
   "cell_type": "code",
   "execution_count": 1,
   "metadata": {},
   "outputs": [],
   "source": [
    "import toml\n",
    "import pandas as pd\n",
    "\n",
    "import itertools\n",
    "import numpy as np"
   ]
  },
  {
   "cell_type": "code",
   "execution_count": null,
   "metadata": {},
   "outputs": [],
   "source": [
    "product_table = pd.DataFrame(toml.load(\"./product_table.toml\")).T\n",
    "\n",
    "_products = []\n",
    "for i, j in product_table.iterrows():\n",
    "    if isinstance(j.domains, list):\n",
    "        a = list(itertools.product([i], j.domains))\n",
    "        _products.append([''.join(i) for i in a])\n",
    "    else:\n",
    "        _products.append([i])\n",
    "_products = set(itertools.chain(*_products))\n",
    "\n",
    "_domains = {\"F\", \"C\", \"M\", \"M1\", \"M2\"}"
   ]
  },
  {
   "cell_type": "code",
   "execution_count": 19,
   "metadata": {},
   "outputs": [],
   "source": [
    "class GOES:\n",
    "    def __init__(self, satellite, product, domain=None):\n",
    "        self.satellite = satellite\n",
    "        self.product = product\n",
    "        self.domain = domain\n",
    "        \n",
    "        self._check_satellite()\n",
    "        self._check_product()\n",
    "\n",
    "    def _check_satellite(self, satellite):\n",
    "        if isinstance(satellite, int):\n",
    "            self.satellite = f'noaa-goes{satellite}'\n",
    "        elif isinstance(satellite, str):\n",
    "            satellite = re.sub('[^0-9]', '', satellite)\n",
    "            self.satellite = f\"noaa-goes{satellite}\"\n",
    "\n",
    "    def _check_product(self, product):\n",
    "        if product in _products:\n",
    "            self.product = product\n",
    "        elif product\n"
   ]
  },
  {
   "cell_type": "code",
   "execution_count": 21,
   "metadata": {},
   "outputs": [
    {
     "data": {
      "text/plain": [
       "'noaa-goes16'"
      ]
     },
     "execution_count": 21,
     "metadata": {},
     "output_type": "execute_result"
    }
   ],
   "source": [
    "GOES('goes16', 'hi').satellite"
   ]
  },
  {
   "cell_type": "code",
   "execution_count": 18,
   "metadata": {},
   "outputs": [
    {
     "data": {
      "text/plain": [
       "['33', '3']"
      ]
     },
     "execution_count": 18,
     "metadata": {},
     "output_type": "execute_result"
    }
   ],
   "source": [
    "re.findall(\"\\d+\", 'asld33kjas3')"
   ]
  },
  {
   "cell_type": "code",
   "execution_count": null,
   "metadata": {},
   "outputs": [],
   "source": []
  }
 ],
 "metadata": {
  "interpreter": {
   "hash": "2f321337560ba2beff5da0d63c595770b11e27bac7ddc011784eb42ad993ef95"
  },
  "kernelspec": {
   "display_name": "Python 3.9.2 ('goes2go')",
   "language": "python",
   "name": "python3"
  },
  "language_info": {
   "codemirror_mode": {
    "name": "ipython",
    "version": 3
   },
   "file_extension": ".py",
   "mimetype": "text/x-python",
   "name": "python",
   "nbconvert_exporter": "python",
   "pygments_lexer": "ipython3",
   "version": "3.9.2"
  },
  "orig_nbformat": 4
 },
 "nbformat": 4,
 "nbformat_minor": 2
}
